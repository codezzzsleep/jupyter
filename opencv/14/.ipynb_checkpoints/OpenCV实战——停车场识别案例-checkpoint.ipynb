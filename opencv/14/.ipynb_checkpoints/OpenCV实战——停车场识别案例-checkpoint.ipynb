{
 "cells": [
  {
   "cell_type": "markdown",
   "id": "91c9cec0",
   "metadata": {},
   "source": [
    "# OpenCV实战——停车场识别案例"
   ]
  },
  {
   "cell_type": "markdown",
   "id": "5bf2c2f1",
   "metadata": {},
   "source": [
    "\n",
    "## 一、背景分析\n",
    "\n",
    "1. 需求分析\n",
    "   - 现代化发展的需求\n",
    "   - 车辆数量增多，依靠人力管理不显示\n",
    "2. 技术分析\n",
    "   - 车牌定位技术\n",
    "   - 车牌字符分割技术\n",
    "   - 车牌字符识别技术\n",
    "3. 技术难点分析\n",
    "   - 车牌定位技术\n",
    "   - 基于Tesseract-OCR 进行字符的分割和识别"
   ]
  },
  {
   "cell_type": "markdown",
   "id": "873afd51",
   "metadata": {},
   "source": [
    "## 二、车牌定位"
   ]
  },
  {
   "cell_type": "markdown",
   "id": "e544f8d6",
   "metadata": {},
   "source": [
    "### 1. 图像预处理\n",
    "\n",
    "-  图像压缩"
   ]
  },
  {
   "cell_type": "markdown",
   "id": "119fd1c1",
   "metadata": {},
   "source": [
    "### 2. 灰度化"
   ]
  },
  {
   "cell_type": "code",
   "execution_count": null,
   "id": "653cbea1",
   "metadata": {},
   "outputs": [],
   "source": [
    "import cv2\n",
    "\n",
    "img = cv2.imread(\"14.1/car.jpg\")\n",
    "gray_img = cv2.cvtColor(img, cv2.COLOR_BGR2GRAY)\n",
    "cv2.imshow(\"img\", img)\n",
    "cv2.imshow(\"gray\", gray_img)\n",
    "cv2.waitKey()\n",
    "cv2.destroyAllWindows()"
   ]
  },
  {
   "cell_type": "markdown",
   "id": "ac3e833d",
   "metadata": {},
   "source": [
    "### 3. 直方图均衡化\n",
    "\n",
    "![](14.1/img.png)\n",
    "img.max() 取三通道中最大的**像素值**，是一个数值\n",
    "shape属性的三个值\n",
    "   -  shape[0] 行数\n",
    "   -  shape[1] 列数\n",
    "   -  shape[2] 色彩通道数\n",
    "   \n",
    "**增强图片对比度,本质上属于图像增强,通过将某个像素的灰度值映射到更大的灰度空间**\n",
    "\n",
    "[直方图均衡化](https://opencv.apachecn.org/#/docs/4.0.0/4.10-tutorial_py_histograms)\n",
    "\n",
    "![](a.png)"
   ]
  },
  {
   "cell_type": "code",
   "execution_count": null,
   "id": "7b14b033",
   "metadata": {},
   "outputs": [],
   "source": [
    "import cv2\n",
    "\n",
    "\n",
    "def stretch(img):\n",
    "    '''\n",
    "    增强图片对比度\n",
    "    '''\n",
    "    maxi = float(img.max())\n",
    "    mini = float(img.min())\n",
    "    print(\"maxi\", maxi)\n",
    "    print(\"mini\" ,mini)\n",
    "\n",
    "    for i in range(img.shape[0]):\n",
    "        for j in range(img.shape[1]):\n",
    "            img[i, j] = (255 / (maxi - mini) * img[i, j] - (255 * mini) / (maxi - mini))\n",
    "\n",
    "    return img\n",
    "\n",
    "\n",
    "if __name__ == '__main__':\n",
    "    img = cv2.imread(\"14.1/img.png\")\n",
    "    cv2.imshow(\"img\", img)\n",
    "    stretch_img = stretch(img)\n",
    "    cv2.imshow('stretch_img', stretch_img)\n",
    "    cv2.waitKey(0)\n",
    "    cv2.destroyAllWindows()"
   ]
  },
  {
   "cell_type": "markdown",
   "id": "81325d4b",
   "metadata": {},
   "source": [
    "### 4. 图像的滤波\n",
    "\n",
    "1. 中值滤波\n",
    "2. 高斯滤波\n",
    "\n",
    "区别：使用的卷积核不同"
   ]
  },
  {
   "cell_type": "markdown",
   "id": "e94394cd",
   "metadata": {},
   "source": [
    "### 5. 二值化\n",
    "\n",
    "cv2.threshold (源图片, 阈值, 填充色, 阈值类型)"
   ]
  },
  {
   "cell_type": "code",
   "execution_count": null,
   "id": "414dfd5e",
   "metadata": {},
   "outputs": [],
   "source": [
    "import cv2\n",
    "\n",
    "def dobinaryzation(img):\n",
    "    '''\n",
    "    二值化处理函数\n",
    "    '''\n",
    "    maxi = float(img.max())\n",
    "    mini = float(img.min())\n",
    "\n",
    "    x = maxi - ((maxi - mini) / 2)\n",
    "    print(\"阈值\", x)\n",
    "    ret, thresh = cv2.threshold(img, x, 255, cv2.THRESH_BINARY)\n",
    "    return thresh\n",
    "\n",
    "\n",
    "if __name__ == '__main__':\n",
    "    img = cv2.imread(\"14.1/car.jpg\")\n",
    "    cv2.imshow(\"img\", img)\n",
    "    dobinaryzation_img = dobinaryzation(img)\n",
    "    cv2.imshow('dobinaryzation_img', dobinaryzation_img)\n",
    "    cv2.waitKey(0)\n",
    "    cv2.destroyAllWindows()"
   ]
  },
  {
   "cell_type": "markdown",
   "id": "ce5266aa",
   "metadata": {},
   "source": [
    "### 6. 边缘检测\n",
    "\n",
    "Canny 边缘检测\n",
    "\n",
    "1. 高斯滤波\n",
    "2. 计算梯度值和梯度方向\n",
    "3. 过滤非最大值\n",
    "4. 使用上下阀值来检测边缘\n",
    "\n",
    "\n",
    "[**参考资料**](https://zhuanlan.zhihu.com/p/42122107)"
   ]
  },
  {
   "cell_type": "markdown",
   "id": "ab3d1760",
   "metadata": {},
   "source": [
    "### 7. 车牌定位\n",
    "\n",
    "![](v.png)\n",
    "![](w.png)"
   ]
  },
  {
   "cell_type": "markdown",
   "id": "ab808529",
   "metadata": {},
   "source": [
    "## 三、车牌字符的分割和识别"
   ]
  },
  {
   "cell_type": "markdown",
   "id": "2c09f900",
   "metadata": {},
   "source": [
    "### 通过Tesseract-OCR 进行字符的分割和识别\n",
    "\n",
    "1. 对预 处理后的图片进一步处理\n",
    "   - 形态学去噪\n",
    "   - 统一转换为白底黑字\n",
    "2. 调用Tesseract引擎进行字符分割和识别\n",
    "\n",
    "    步骤：\n",
    "    1. 灰度，二值化处理\n",
    "    2. 形态学操作去噪\n",
    "    3. 识别\n",
    "![](14.1/cp.jpg)"
   ]
  },
  {
   "cell_type": "code",
   "execution_count": null,
   "id": "1646dd15",
   "metadata": {},
   "outputs": [],
   "source": [
    "import cv2 as cv\n",
    "from PIL import Image\n",
    "import pytesseract as tess\n",
    "\n",
    "\n",
    "def recoginse_text(image):\n",
    "\n",
    "    # 灰度 二值化\n",
    "    gray = cv.cvtColor(image, cv.COLOR_BGR2GRAY)\n",
    "    # 如果是白底黑字 建议 _INV\n",
    "    ret, binary = cv.threshold(gray, 0, 255, cv.THRESH_BINARY_INV | cv.THRESH_OTSU)\n",
    "\n",
    "    # 形态学操作 (根据需要设置参数（1，2）)\n",
    "    kernel = cv.getStructuringElement(cv.MORPH_RECT, (1, 2))  # 去除横向细线\n",
    "    morph1 = cv.morphologyEx(binary, cv.MORPH_OPEN, kernel)\n",
    "    kernel = cv.getStructuringElement(cv.MORPH_RECT, (2, 1))  # 去除纵向细线\n",
    "    morph2 = cv.morphologyEx(morph1, cv.MORPH_OPEN, kernel)\n",
    "    cv.imshow(\"Morph\", morph2)\n",
    "\n",
    "    # 黑底白字取非，变为白底黑字（便于pytesseract 识别）\n",
    "    cv.bitwise_not(morph2, morph2)\n",
    "    textImage = Image.fromarray(morph2)\n",
    "\n",
    "    # 图片转文字\n",
    "    text = tess.image_to_string(textImage)\n",
    "    n = 10  # 根据不同国家车牌固定数目进行设置\n",
    "    print(\"识别结果:\")\n",
    "    print(text[1:n])\n",
    "\n",
    "\n",
    "def main():\n",
    "    # 读取需要识别的数字字母图片，并显示读到的原图\n",
    "    src = cv.imread(\"14.1/cp.jpg\")\n",
    "    cv.imshow(\"src\", src)\n",
    "\n",
    "    # 识别\n",
    "    recoginse_text(src)\n",
    "\n",
    "    cv.waitKey(0)\n",
    "    cv.destroyAllWindows()\n",
    "\n",
    "\n",
    "if __name__ == \"__main__\":\n",
    "    main()\n"
   ]
  },
  {
   "cell_type": "markdown",
   "id": "46e535f8",
   "metadata": {},
   "source": [
    "### 计算机是如何识别出来图像的（卷积神经网络）\n",
    "\n",
    "详见ppt"
   ]
  }
 ],
 "metadata": {
  "kernelspec": {
   "display_name": "Python 3 (ipykernel)",
   "language": "python",
   "name": "python3"
  },
  "language_info": {
   "codemirror_mode": {
    "name": "ipython",
    "version": 3
   },
   "file_extension": ".py",
   "mimetype": "text/x-python",
   "name": "python",
   "nbconvert_exporter": "python",
   "pygments_lexer": "ipython3",
   "version": "3.8.15"
  }
 },
 "nbformat": 4,
 "nbformat_minor": 5
}
